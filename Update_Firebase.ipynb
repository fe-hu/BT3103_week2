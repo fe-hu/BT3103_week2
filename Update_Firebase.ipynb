{
  "nbformat": 4,
  "nbformat_minor": 0,
  "metadata": {
    "colab": {
      "name": "Update Firebase.ipynb",
      "version": "0.3.2",
      "provenance": [],
      "collapsed_sections": [],
      "include_colab_link": true
    },
    "kernelspec": {
      "name": "python3",
      "display_name": "Python 3"
    }
  },
  "cells": [
    {
      "cell_type": "markdown",
      "metadata": {
        "id": "view-in-github",
        "colab_type": "text"
      },
      "source": [
        "<a href=\"https://colab.research.google.com/github/fe-hu/BT3103_week2/blob/master/Update_Firebase.ipynb\" target=\"_parent\"><img src=\"https://colab.research.google.com/assets/colab-badge.svg\" alt=\"Open In Colab\"/></a>"
      ]
    },
    {
      "metadata": {
        "id": "vTXUpG-0gwJ7",
        "colab_type": "code",
        "colab": {}
      },
      "cell_type": "code",
      "source": [
        "# Use your own Firebase project\n",
        "# Replace this with your firebase project url\n",
        "firebaseProject = \"https://awesome-56c60.firebaseio.com\""
      ],
      "execution_count": 0,
      "outputs": []
    },
    {
      "metadata": {
        "id": "9Z4tVbjELvwL",
        "colab_type": "code",
        "outputId": "99b49aa2-58eb-4334-c35b-2b8fbf31458d",
        "colab": {
          "base_uri": "https://localhost:8080/",
          "height": 34
        }
      },
      "cell_type": "code",
      "source": [
        "import requests\n",
        "import json\n",
        "\n",
        "url = firebaseProject+\"/charts/lineData2/data.json\"\n",
        "\n",
        "resp = requests.get(url=url)\n",
        "#print(resp.text)\n",
        "data = resp.json()\n",
        "print(data) "
      ],
      "execution_count": 0,
      "outputs": [
        {
          "output_type": "stream",
          "text": [
            "[['Sun', 20], ['Mon', 10], ['Tue', 28]]\n"
          ],
          "name": "stdout"
        }
      ]
    },
    {
      "metadata": {
        "id": "cDsiTiXShWO5",
        "colab_type": "code",
        "colab": {}
      },
      "cell_type": "code",
      "source": [
        "# Let's change the lineData2 data.\n",
        "\n",
        "url = firebaseProject+\"/charts/lineData2/data.json\"\n",
        "newData = [[\"Sun\", 35], [\"Mon\", 10], [\"Tue\", 28]]\n",
        "\n",
        "resp = requests.put(url=url, \n",
        "                    data=json.dumps(newData))\n",
        "  \n",
        " "
      ],
      "execution_count": 0,
      "outputs": []
    },
    {
      "metadata": {
        "id": "rOSw6RJHSE_z",
        "colab_type": "code",
        "outputId": "d86da84a-d8a2-45f3-9cb1-cd7eb5bbc41e",
        "colab": {
          "base_uri": "https://localhost:8080/",
          "height": 689
        }
      },
      "cell_type": "code",
      "source": [
        "# Let's randomly change the barData2 data. \n",
        "url = firebaseProject+\"/charts/barData2/data.json\"\n",
        "\n",
        "import time\n",
        "from random import randint\n",
        "\n",
        "for x in range(40):\n",
        "  newJanData = randint(5, 19)\n",
        "  newData = [[\"Jan\",newJanData ], [\"Feb\", 2], [\"Mar\", 20], [\"Apr\", 5], [\"Sep\", 15]]\n",
        "  \n",
        "  resp = requests.put(url=url, \n",
        "                    data=json.dumps(newData))\n",
        "\n",
        "  print(\"Updating and sleeping 1 second.\", newJanData)\n",
        "  time.sleep(0.5)"
      ],
      "execution_count": 0,
      "outputs": [
        {
          "output_type": "stream",
          "text": [
            "Updating and sleeping 1 second. 17\n",
            "Updating and sleeping 1 second. 18\n",
            "Updating and sleeping 1 second. 11\n",
            "Updating and sleeping 1 second. 18\n",
            "Updating and sleeping 1 second. 11\n",
            "Updating and sleeping 1 second. 9\n",
            "Updating and sleeping 1 second. 12\n",
            "Updating and sleeping 1 second. 14\n",
            "Updating and sleeping 1 second. 15\n",
            "Updating and sleeping 1 second. 17\n",
            "Updating and sleeping 1 second. 15\n",
            "Updating and sleeping 1 second. 9\n",
            "Updating and sleeping 1 second. 15\n",
            "Updating and sleeping 1 second. 19\n",
            "Updating and sleeping 1 second. 14\n",
            "Updating and sleeping 1 second. 5\n",
            "Updating and sleeping 1 second. 19\n",
            "Updating and sleeping 1 second. 19\n",
            "Updating and sleeping 1 second. 5\n",
            "Updating and sleeping 1 second. 12\n",
            "Updating and sleeping 1 second. 14\n",
            "Updating and sleeping 1 second. 12\n",
            "Updating and sleeping 1 second. 15\n",
            "Updating and sleeping 1 second. 5\n",
            "Updating and sleeping 1 second. 10\n",
            "Updating and sleeping 1 second. 12\n",
            "Updating and sleeping 1 second. 14\n",
            "Updating and sleeping 1 second. 10\n",
            "Updating and sleeping 1 second. 12\n",
            "Updating and sleeping 1 second. 13\n",
            "Updating and sleeping 1 second. 14\n",
            "Updating and sleeping 1 second. 13\n",
            "Updating and sleeping 1 second. 6\n",
            "Updating and sleeping 1 second. 8\n",
            "Updating and sleeping 1 second. 10\n",
            "Updating and sleeping 1 second. 15\n",
            "Updating and sleeping 1 second. 16\n",
            "Updating and sleeping 1 second. 16\n",
            "Updating and sleeping 1 second. 11\n",
            "Updating and sleeping 1 second. 7\n"
          ],
          "name": "stdout"
        }
      ]
    },
    {
      "metadata": {
        "id": "riH84ZeduDYp",
        "colab_type": "code",
        "colab": {}
      },
      "cell_type": "code",
      "source": [
        ""
      ],
      "execution_count": 0,
      "outputs": []
    }
  ]
}